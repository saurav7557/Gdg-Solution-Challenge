{
 "cells": [
  {
   "cell_type": "code",
   "execution_count": null,
   "metadata": {
    "vscode": {
     "languageId": "plaintext"
    }
   },
   "outputs": [],
   "source": [
    "# This notebook will contain exploratory analysis on videos\n",
    "import pandas as pd\n",
    "\n",
    "# Example data loading\n",
    "data = pd.read_csv('data/raw_videos.csv')\n",
    "\n",
    "# Perform analysis on the downloaded videos\n",
    "data.head()\n"
   ]
  }
 ],
 "metadata": {
  "language_info": {
   "name": "python"
  }
 },
 "nbformat": 4,
 "nbformat_minor": 2
}
